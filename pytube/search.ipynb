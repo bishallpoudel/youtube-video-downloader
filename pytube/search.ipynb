{
 "cells": [
  {
   "cell_type": "code",
   "execution_count": 1,
   "id": "b747d06e-ac6b-447f-a2af-d69e9412372a",
   "metadata": {},
   "outputs": [],
   "source": [
    "from pytube import Search"
   ]
  },
  {
   "cell_type": "code",
   "execution_count": 2,
   "id": "68a9d69b-f670-4b20-9a28-9907fd416dc1",
   "metadata": {},
   "outputs": [
    {
     "data": {
      "text/plain": [
       "19"
      ]
     },
     "execution_count": 2,
     "metadata": {},
     "output_type": "execute_result"
    }
   ],
   "source": [
    "# Search objecl\n",
    "s = Search(\"Shiva Songs\")\n",
    "len(s.results)"
   ]
  },
  {
   "cell_type": "code",
   "execution_count": 3,
   "id": "c514b104-ac4c-4d8e-b4db-e30234a2cb43",
   "metadata": {},
   "outputs": [
    {
     "data": {
      "text/plain": [
       "[<pytube.__main__.YouTube object: videoId=bNzq_YQ5hw8>,\n",
       " <pytube.__main__.YouTube object: videoId=g-5BYYyMAms>,\n",
       " <pytube.__main__.YouTube object: videoId=hMBKmQEPNzI>,\n",
       " <pytube.__main__.YouTube object: videoId=oY-VKhly7wY>,\n",
       " <pytube.__main__.YouTube object: videoId=PlIoHp6v3LI>,\n",
       " <pytube.__main__.YouTube object: videoId=dx4Teh-nv3A>,\n",
       " <pytube.__main__.YouTube object: videoId=8PRACOyD1nw>,\n",
       " <pytube.__main__.YouTube object: videoId=5vGZhJXHDXU>,\n",
       " <pytube.__main__.YouTube object: videoId=Jy5o66NXgVs>,\n",
       " <pytube.__main__.YouTube object: videoId=5wX_K0PdenM>,\n",
       " <pytube.__main__.YouTube object: videoId=qFsZwFUoviE>,\n",
       " <pytube.__main__.YouTube object: videoId=kBvWmsRm0ak>,\n",
       " <pytube.__main__.YouTube object: videoId=T0ur0HL6d5M>,\n",
       " <pytube.__main__.YouTube object: videoId=S980-z1qx3g>,\n",
       " <pytube.__main__.YouTube object: videoId=CBqdVosM4gU>,\n",
       " <pytube.__main__.YouTube object: videoId=HavWnxyPcz4>,\n",
       " <pytube.__main__.YouTube object: videoId=4g2Hx1t7A_Y>,\n",
       " <pytube.__main__.YouTube object: videoId=sq8yDhlUfUE>,\n",
       " <pytube.__main__.YouTube object: videoId=pnoVeh2hcVA>]"
      ]
     },
     "execution_count": 3,
     "metadata": {},
     "output_type": "execute_result"
    }
   ],
   "source": [
    "s.results"
   ]
  },
  {
   "cell_type": "code",
   "execution_count": 4,
   "id": "a3e98516-12ad-4aea-b27a-42d39928f4d5",
   "metadata": {},
   "outputs": [
    {
     "data": {
      "text/plain": [
       "38"
      ]
     },
     "execution_count": 4,
     "metadata": {},
     "output_type": "execute_result"
    }
   ],
   "source": [
    "# Next results\n",
    "s.get_next_results()\n",
    "len(s.results)"
   ]
  },
  {
   "cell_type": "code",
   "execution_count": 7,
   "id": "ae27b5a4-5557-4143-9b82-77fd33ea4778",
   "metadata": {},
   "outputs": [
    {
     "data": {
      "text/plain": [
       "['shiva mantra powerful',\n",
       " 'mera bhola hai bhandari song',\n",
       " 'shiv kailasho ke wasi',\n",
       " 'shiva mantra tamil',\n",
       " 'shankara song',\n",
       " 'shiva mantra trance',\n",
       " 'shiv tandav sachet parampara',\n",
       " 'bholenath bhajan',\n",
       " 'shiv tandav song',\n",
       " 'damru bajaya bholenath ne',\n",
       " 'laagi lagan shankara',\n",
       " 'shiva songs kannada',\n",
       " 'bhole baba song dj remix',\n",
       " 'shiva songs telugu']"
      ]
     },
     "execution_count": 7,
     "metadata": {},
     "output_type": "execute_result"
    }
   ],
   "source": [
    "# We get title of videos rather than object\n",
    "s.completion_suggestions"
   ]
  },
  {
   "cell_type": "code",
   "execution_count": null,
   "id": "01f9895c-11fb-4104-9471-eb8b86b29945",
   "metadata": {},
   "outputs": [],
   "source": []
  }
 ],
 "metadata": {
  "kernelspec": {
   "display_name": "Python 3 (ipykernel)",
   "language": "python",
   "name": "python3"
  },
  "language_info": {
   "codemirror_mode": {
    "name": "ipython",
    "version": 3
   },
   "file_extension": ".py",
   "mimetype": "text/x-python",
   "name": "python",
   "nbconvert_exporter": "python",
   "pygments_lexer": "ipython3",
   "version": "3.9.2"
  }
 },
 "nbformat": 4,
 "nbformat_minor": 5
}
