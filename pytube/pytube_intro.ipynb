{
 "cells": [
  {
   "cell_type": "markdown",
   "id": "93c36918-44c3-46be-8932-fe827b50a8bd",
   "metadata": {},
   "source": [
    "# Pytube, to download YouTube video"
   ]
  },
  {
   "cell_type": "markdown",
   "id": "4e5a3acb-3e9c-42af-8883-48ef314c2618",
   "metadata": {},
   "source": [
    "> Install pytube using `pip install pytube`"
   ]
  },
  {
   "cell_type": "code",
   "execution_count": 1,
   "id": "8d4ff605-cfd8-43c6-a260-692f91794dae",
   "metadata": {},
   "outputs": [],
   "source": [
    "from pytube import YouTube"
   ]
  },
  {
   "cell_type": "code",
   "execution_count": 2,
   "id": "450cfe2d-96aa-4251-8ead-b6b3df2959aa",
   "metadata": {},
   "outputs": [],
   "source": [
    "# YouTube object\n",
    "yt = YouTube(\"https://youtu.be/ttCHwik6R1U\")"
   ]
  },
  {
   "cell_type": "code",
   "execution_count": 3,
   "id": "885767c0-0a17-4e51-ae93-db5d883f8cc6",
   "metadata": {},
   "outputs": [
    {
     "data": {
      "text/plain": [
       "'Ritesh Pandey का सबसे खतरनाक डायलॉग वाला शिव भजन | Video Song | Bhakt Mahakal Ka | Shiv Bhajan'"
      ]
     },
     "execution_count": 3,
     "metadata": {},
     "output_type": "execute_result"
    }
   ],
   "source": [
    "# Display video title\n",
    "yt.title"
   ]
  },
  {
   "cell_type": "code",
   "execution_count": 4,
   "id": "5bad95b2-bf85-4342-a6a9-2ec6a15c3066",
   "metadata": {},
   "outputs": [
    {
     "data": {
      "text/plain": [
       "'https://i.ytimg.com/vi/ttCHwik6R1U/sddefault.jpg'"
      ]
     },
     "execution_count": 4,
     "metadata": {},
     "output_type": "execute_result"
    }
   ],
   "source": [
    "# To get thumbnail url\n",
    "yt.thumbnail_url"
   ]
  },
  {
   "cell_type": "code",
   "execution_count": 5,
   "id": "e886007b-ab95-4e02-89ca-d6d070de2baf",
   "metadata": {},
   "outputs": [],
   "source": [
    "# YouTube object with additional arguments\n",
    "\n",
    "# yt = YouTube(\n",
    "#     \"https://youtu.be/ttCHwik6R1U\",\n",
    "#     on_progress_callback=progress_func,\n",
    "#     on_complete_callback=complete_func,\n",
    "#     proxies=my_proxies,\n",
    "#     use_oauth=False,\n",
    "#     allow_oauth_cache=True\n",
    "# )"
   ]
  },
  {
   "cell_type": "code",
   "execution_count": 8,
   "id": "40243ba4-12c6-471d-946a-c02b0852f18c",
   "metadata": {},
   "outputs": [
    {
     "data": {
      "text/plain": [
       "[<Stream: itag=\"17\" mime_type=\"video/3gpp\" res=\"144p\" fps=\"6fps\" vcodec=\"mp4v.20.3\" acodec=\"mp4a.40.2\" progressive=\"True\" type=\"video\">, <Stream: itag=\"18\" mime_type=\"video/mp4\" res=\"360p\" fps=\"25fps\" vcodec=\"avc1.42001E\" acodec=\"mp4a.40.2\" progressive=\"True\" type=\"video\">, <Stream: itag=\"22\" mime_type=\"video/mp4\" res=\"720p\" fps=\"25fps\" vcodec=\"avc1.64001F\" acodec=\"mp4a.40.2\" progressive=\"True\" type=\"video\">, <Stream: itag=\"137\" mime_type=\"video/mp4\" res=\"1080p\" fps=\"25fps\" vcodec=\"avc1.640028\" progressive=\"False\" type=\"video\">, <Stream: itag=\"248\" mime_type=\"video/webm\" res=\"1080p\" fps=\"25fps\" vcodec=\"vp9\" progressive=\"False\" type=\"video\">, <Stream: itag=\"399\" mime_type=\"video/mp4\" res=\"1080p\" fps=\"25fps\" vcodec=\"av01.0.08M.08\" progressive=\"False\" type=\"video\">, <Stream: itag=\"136\" mime_type=\"video/mp4\" res=\"720p\" fps=\"25fps\" vcodec=\"avc1.4d401f\" progressive=\"False\" type=\"video\">, <Stream: itag=\"247\" mime_type=\"video/webm\" res=\"720p\" fps=\"25fps\" vcodec=\"vp9\" progressive=\"False\" type=\"video\">, <Stream: itag=\"398\" mime_type=\"video/mp4\" res=\"720p\" fps=\"25fps\" vcodec=\"av01.0.05M.08\" progressive=\"False\" type=\"video\">, <Stream: itag=\"135\" mime_type=\"video/mp4\" res=\"480p\" fps=\"25fps\" vcodec=\"avc1.4d401e\" progressive=\"False\" type=\"video\">, <Stream: itag=\"244\" mime_type=\"video/webm\" res=\"480p\" fps=\"25fps\" vcodec=\"vp9\" progressive=\"False\" type=\"video\">, <Stream: itag=\"397\" mime_type=\"video/mp4\" res=\"480p\" fps=\"25fps\" vcodec=\"av01.0.04M.08\" progressive=\"False\" type=\"video\">, <Stream: itag=\"134\" mime_type=\"video/mp4\" res=\"360p\" fps=\"25fps\" vcodec=\"avc1.4d401e\" progressive=\"False\" type=\"video\">, <Stream: itag=\"243\" mime_type=\"video/webm\" res=\"360p\" fps=\"25fps\" vcodec=\"vp9\" progressive=\"False\" type=\"video\">, <Stream: itag=\"396\" mime_type=\"video/mp4\" res=\"360p\" fps=\"25fps\" vcodec=\"av01.0.01M.08\" progressive=\"False\" type=\"video\">, <Stream: itag=\"133\" mime_type=\"video/mp4\" res=\"240p\" fps=\"25fps\" vcodec=\"avc1.4d4015\" progressive=\"False\" type=\"video\">, <Stream: itag=\"242\" mime_type=\"video/webm\" res=\"240p\" fps=\"25fps\" vcodec=\"vp9\" progressive=\"False\" type=\"video\">, <Stream: itag=\"395\" mime_type=\"video/mp4\" res=\"240p\" fps=\"25fps\" vcodec=\"av01.0.00M.08\" progressive=\"False\" type=\"video\">, <Stream: itag=\"160\" mime_type=\"video/mp4\" res=\"144p\" fps=\"25fps\" vcodec=\"avc1.4d400c\" progressive=\"False\" type=\"video\">, <Stream: itag=\"278\" mime_type=\"video/webm\" res=\"144p\" fps=\"25fps\" vcodec=\"vp9\" progressive=\"False\" type=\"video\">, <Stream: itag=\"394\" mime_type=\"video/mp4\" res=\"144p\" fps=\"25fps\" vcodec=\"av01.0.00M.08\" progressive=\"False\" type=\"video\">, <Stream: itag=\"139\" mime_type=\"audio/mp4\" abr=\"48kbps\" acodec=\"mp4a.40.5\" progressive=\"False\" type=\"audio\">, <Stream: itag=\"140\" mime_type=\"audio/mp4\" abr=\"128kbps\" acodec=\"mp4a.40.2\" progressive=\"False\" type=\"audio\">, <Stream: itag=\"249\" mime_type=\"audio/webm\" abr=\"50kbps\" acodec=\"opus\" progressive=\"False\" type=\"audio\">, <Stream: itag=\"250\" mime_type=\"audio/webm\" abr=\"70kbps\" acodec=\"opus\" progressive=\"False\" type=\"audio\">, <Stream: itag=\"251\" mime_type=\"audio/webm\" abr=\"160kbps\" acodec=\"opus\" progressive=\"False\" type=\"audio\">]"
      ]
     },
     "execution_count": 8,
     "metadata": {},
     "output_type": "execute_result"
    }
   ],
   "source": [
    "# Yt streams\n",
    "# yt = YouTube(\"https://youtu.be/PaB-PpV0sas\")\n",
    "yt.streams"
   ]
  },
  {
   "cell_type": "code",
   "execution_count": 10,
   "id": "e2674550-a62a-44c9-9066-99dd96e6c85b",
   "metadata": {},
   "outputs": [
    {
     "data": {
      "text/plain": [
       "[<Stream: itag=\"17\" mime_type=\"video/3gpp\" res=\"144p\" fps=\"6fps\" vcodec=\"mp4v.20.3\" acodec=\"mp4a.40.2\" progressive=\"True\" type=\"video\">, <Stream: itag=\"18\" mime_type=\"video/mp4\" res=\"360p\" fps=\"25fps\" vcodec=\"avc1.42001E\" acodec=\"mp4a.40.2\" progressive=\"True\" type=\"video\">, <Stream: itag=\"22\" mime_type=\"video/mp4\" res=\"720p\" fps=\"25fps\" vcodec=\"avc1.64001F\" acodec=\"mp4a.40.2\" progressive=\"True\" type=\"video\">]"
      ]
     },
     "execution_count": 10,
     "metadata": {},
     "output_type": "execute_result"
    }
   ],
   "source": [
    "# Filtering the streams\n",
    "yt.streams.filter(progressive=True)"
   ]
  },
  {
   "cell_type": "code",
   "execution_count": 11,
   "id": "b1370eac-8192-46da-b716-2f2d480e14fc",
   "metadata": {},
   "outputs": [
    {
     "data": {
      "text/plain": [
       "[<Stream: itag=\"137\" mime_type=\"video/mp4\" res=\"1080p\" fps=\"25fps\" vcodec=\"avc1.640028\" progressive=\"False\" type=\"video\">, <Stream: itag=\"248\" mime_type=\"video/webm\" res=\"1080p\" fps=\"25fps\" vcodec=\"vp9\" progressive=\"False\" type=\"video\">, <Stream: itag=\"399\" mime_type=\"video/mp4\" res=\"1080p\" fps=\"25fps\" vcodec=\"av01.0.08M.08\" progressive=\"False\" type=\"video\">, <Stream: itag=\"136\" mime_type=\"video/mp4\" res=\"720p\" fps=\"25fps\" vcodec=\"avc1.4d401f\" progressive=\"False\" type=\"video\">, <Stream: itag=\"247\" mime_type=\"video/webm\" res=\"720p\" fps=\"25fps\" vcodec=\"vp9\" progressive=\"False\" type=\"video\">, <Stream: itag=\"398\" mime_type=\"video/mp4\" res=\"720p\" fps=\"25fps\" vcodec=\"av01.0.05M.08\" progressive=\"False\" type=\"video\">, <Stream: itag=\"135\" mime_type=\"video/mp4\" res=\"480p\" fps=\"25fps\" vcodec=\"avc1.4d401e\" progressive=\"False\" type=\"video\">, <Stream: itag=\"244\" mime_type=\"video/webm\" res=\"480p\" fps=\"25fps\" vcodec=\"vp9\" progressive=\"False\" type=\"video\">, <Stream: itag=\"397\" mime_type=\"video/mp4\" res=\"480p\" fps=\"25fps\" vcodec=\"av01.0.04M.08\" progressive=\"False\" type=\"video\">, <Stream: itag=\"134\" mime_type=\"video/mp4\" res=\"360p\" fps=\"25fps\" vcodec=\"avc1.4d401e\" progressive=\"False\" type=\"video\">, <Stream: itag=\"243\" mime_type=\"video/webm\" res=\"360p\" fps=\"25fps\" vcodec=\"vp9\" progressive=\"False\" type=\"video\">, <Stream: itag=\"396\" mime_type=\"video/mp4\" res=\"360p\" fps=\"25fps\" vcodec=\"av01.0.01M.08\" progressive=\"False\" type=\"video\">, <Stream: itag=\"133\" mime_type=\"video/mp4\" res=\"240p\" fps=\"25fps\" vcodec=\"avc1.4d4015\" progressive=\"False\" type=\"video\">, <Stream: itag=\"242\" mime_type=\"video/webm\" res=\"240p\" fps=\"25fps\" vcodec=\"vp9\" progressive=\"False\" type=\"video\">, <Stream: itag=\"395\" mime_type=\"video/mp4\" res=\"240p\" fps=\"25fps\" vcodec=\"av01.0.00M.08\" progressive=\"False\" type=\"video\">, <Stream: itag=\"160\" mime_type=\"video/mp4\" res=\"144p\" fps=\"25fps\" vcodec=\"avc1.4d400c\" progressive=\"False\" type=\"video\">, <Stream: itag=\"278\" mime_type=\"video/webm\" res=\"144p\" fps=\"25fps\" vcodec=\"vp9\" progressive=\"False\" type=\"video\">, <Stream: itag=\"394\" mime_type=\"video/mp4\" res=\"144p\" fps=\"25fps\" vcodec=\"av01.0.00M.08\" progressive=\"False\" type=\"video\">, <Stream: itag=\"139\" mime_type=\"audio/mp4\" abr=\"48kbps\" acodec=\"mp4a.40.5\" progressive=\"False\" type=\"audio\">, <Stream: itag=\"140\" mime_type=\"audio/mp4\" abr=\"128kbps\" acodec=\"mp4a.40.2\" progressive=\"False\" type=\"audio\">, <Stream: itag=\"249\" mime_type=\"audio/webm\" abr=\"50kbps\" acodec=\"opus\" progressive=\"False\" type=\"audio\">, <Stream: itag=\"250\" mime_type=\"audio/webm\" abr=\"70kbps\" acodec=\"opus\" progressive=\"False\" type=\"audio\">, <Stream: itag=\"251\" mime_type=\"audio/webm\" abr=\"160kbps\" acodec=\"opus\" progressive=\"False\" type=\"audio\">]"
      ]
     },
     "execution_count": 11,
     "metadata": {},
     "output_type": "execute_result"
    }
   ],
   "source": [
    "# DASH streams (Dynamic Adaptive Streaming over HTTP)\n",
    "yt.streams.filter(adaptive=True)"
   ]
  },
  {
   "cell_type": "code",
   "execution_count": 12,
   "id": "8a8c0ae0-2ef0-4c8f-b299-3863a01ce9aa",
   "metadata": {},
   "outputs": [
    {
     "data": {
      "text/plain": [
       "[<Stream: itag=\"139\" mime_type=\"audio/mp4\" abr=\"48kbps\" acodec=\"mp4a.40.5\" progressive=\"False\" type=\"audio\">, <Stream: itag=\"140\" mime_type=\"audio/mp4\" abr=\"128kbps\" acodec=\"mp4a.40.2\" progressive=\"False\" type=\"audio\">, <Stream: itag=\"249\" mime_type=\"audio/webm\" abr=\"50kbps\" acodec=\"opus\" progressive=\"False\" type=\"audio\">, <Stream: itag=\"250\" mime_type=\"audio/webm\" abr=\"70kbps\" acodec=\"opus\" progressive=\"False\" type=\"audio\">, <Stream: itag=\"251\" mime_type=\"audio/webm\" abr=\"160kbps\" acodec=\"opus\" progressive=\"False\" type=\"audio\">]"
      ]
     },
     "execution_count": 12,
     "metadata": {},
     "output_type": "execute_result"
    }
   ],
   "source": [
    "# Filtering for audio only streams\n",
    "yt.streams.filter(only_audio=True)"
   ]
  },
  {
   "cell_type": "code",
   "execution_count": 13,
   "id": "7b62ad17-02bf-47b8-a965-5ba066a30d9a",
   "metadata": {},
   "outputs": [
    {
     "data": {
      "text/plain": [
       "[<Stream: itag=\"18\" mime_type=\"video/mp4\" res=\"360p\" fps=\"25fps\" vcodec=\"avc1.42001E\" acodec=\"mp4a.40.2\" progressive=\"True\" type=\"video\">, <Stream: itag=\"22\" mime_type=\"video/mp4\" res=\"720p\" fps=\"25fps\" vcodec=\"avc1.64001F\" acodec=\"mp4a.40.2\" progressive=\"True\" type=\"video\">, <Stream: itag=\"137\" mime_type=\"video/mp4\" res=\"1080p\" fps=\"25fps\" vcodec=\"avc1.640028\" progressive=\"False\" type=\"video\">, <Stream: itag=\"399\" mime_type=\"video/mp4\" res=\"1080p\" fps=\"25fps\" vcodec=\"av01.0.08M.08\" progressive=\"False\" type=\"video\">, <Stream: itag=\"136\" mime_type=\"video/mp4\" res=\"720p\" fps=\"25fps\" vcodec=\"avc1.4d401f\" progressive=\"False\" type=\"video\">, <Stream: itag=\"398\" mime_type=\"video/mp4\" res=\"720p\" fps=\"25fps\" vcodec=\"av01.0.05M.08\" progressive=\"False\" type=\"video\">, <Stream: itag=\"135\" mime_type=\"video/mp4\" res=\"480p\" fps=\"25fps\" vcodec=\"avc1.4d401e\" progressive=\"False\" type=\"video\">, <Stream: itag=\"397\" mime_type=\"video/mp4\" res=\"480p\" fps=\"25fps\" vcodec=\"av01.0.04M.08\" progressive=\"False\" type=\"video\">, <Stream: itag=\"134\" mime_type=\"video/mp4\" res=\"360p\" fps=\"25fps\" vcodec=\"avc1.4d401e\" progressive=\"False\" type=\"video\">, <Stream: itag=\"396\" mime_type=\"video/mp4\" res=\"360p\" fps=\"25fps\" vcodec=\"av01.0.01M.08\" progressive=\"False\" type=\"video\">, <Stream: itag=\"133\" mime_type=\"video/mp4\" res=\"240p\" fps=\"25fps\" vcodec=\"avc1.4d4015\" progressive=\"False\" type=\"video\">, <Stream: itag=\"395\" mime_type=\"video/mp4\" res=\"240p\" fps=\"25fps\" vcodec=\"av01.0.00M.08\" progressive=\"False\" type=\"video\">, <Stream: itag=\"160\" mime_type=\"video/mp4\" res=\"144p\" fps=\"25fps\" vcodec=\"avc1.4d400c\" progressive=\"False\" type=\"video\">, <Stream: itag=\"394\" mime_type=\"video/mp4\" res=\"144p\" fps=\"25fps\" vcodec=\"av01.0.00M.08\" progressive=\"False\" type=\"video\">, <Stream: itag=\"139\" mime_type=\"audio/mp4\" abr=\"48kbps\" acodec=\"mp4a.40.5\" progressive=\"False\" type=\"audio\">, <Stream: itag=\"140\" mime_type=\"audio/mp4\" abr=\"128kbps\" acodec=\"mp4a.40.2\" progressive=\"False\" type=\"audio\">]"
      ]
     },
     "execution_count": 13,
     "metadata": {},
     "output_type": "execute_result"
    }
   ],
   "source": [
    "# Filtering mp4 streams\n",
    "yt.streams.filter(file_extension=\"mp4\")"
   ]
  },
  {
   "cell_type": "code",
   "execution_count": 14,
   "id": "c9b4ad57-fb9d-46a2-a0f8-1bfab8734742",
   "metadata": {},
   "outputs": [
    {
     "data": {
      "text/plain": [
       "'/home/bishal/Programs/pytube/Ritesh Pandey का सबसे खतरनाक डायलॉग वाला शिव भजन  Video Song  Bhakt Mahakal Ka  Shiv Bhajan.mp4'"
      ]
     },
     "execution_count": 14,
     "metadata": {},
     "output_type": "execute_result"
    }
   ],
   "source": [
    "# Downloading streams\n",
    "stream = yt.streams.get_by_itag(22)\n",
    "stream.download()"
   ]
  },
  {
   "cell_type": "code",
   "execution_count": 16,
   "id": "115d6eed-031c-4769-b1ba-71fb53c8beb5",
   "metadata": {},
   "outputs": [
    {
     "data": {
      "text/plain": [
       "{'en': <Caption lang=\"English\" code=\"en\">, 'ko': <Caption lang=\"Korean\" code=\"ko\">}"
      ]
     },
     "execution_count": 16,
     "metadata": {},
     "output_type": "execute_result"
    }
   ],
   "source": [
    "yt = YouTube(\"https://youtu.be/OkmVcYtCqjw\")\n",
    "yt.captions"
   ]
  },
  {
   "cell_type": "code",
   "execution_count": 22,
   "id": "32fcda55-47be-4718-ac96-5bb3b4f5e3b4",
   "metadata": {},
   "outputs": [
    {
     "name": "stderr",
     "output_type": "stream",
     "text": [
      "/tmp/ipykernel_83344/3511858593.py:2: DeprecationWarning: Call to deprecated function get_by_language_code (This object can be treated as a dictionary, i.e. captions['en']).\n",
      "  caption = yt.captions.get_by_language_code(\"en\")\n"
     ]
    }
   ],
   "source": [
    "# cleckout for englist captions\n",
    "caption = yt.captions.get_by_language_code(\"en\")"
   ]
  },
  {
   "cell_type": "code",
   "execution_count": 18,
   "id": "67988745-7d9b-4bac-807b-ae6b3cf2e67a",
   "metadata": {},
   "outputs": [
    {
     "data": {
      "text/plain": [
       "'<?xml version=\"1.0\" encoding=\"utf-8\" ?><timedtext format=\"3\">\\n<body>\\n<p t=\"2320\" d=\"4700\">Yeah, yeah, yeah\\nBLACKPINK IN YOUR AREA!</p>\\n<p t=\"9640\" d=\"2300\">Yeah, yeah, yeah</p>\\n<p t=\"14800\" d=\"6540\">After a sweet &quot;hi&quot;, there&#39;s always a bitter &quot;bye&quot;\\nAfter every crazy high, there’s a price you have to pay</p>\\n<p t=\"21340\" d=\"7440\">There’s no answer to this test I’ll always fall for it yes\\nI’m a slave to my emotions, Sc*** this heartless love</p>\\n<p t=\"28780\" d=\"3880\">Here I come kick in the door\\nGive me the strongest one</p>\\n<p t=\"32660\" d=\"3560\">So obvious, that love\\nGive me more, give me some more</p>\\n<p t=\"36220\" d=\"3460\">Cling onto the edge of the cliff if you want\\nWith just one word you&#39;re like starstruck again</p>\\n<p t=\"39680\" d=\"4280\">That warm nervous feeling, extreme excitement\\nFelt like heaven but you might not get in it</p>\\n<p t=\"43960\" d=\"6320\">Look at me, look at you, who will be in more pain?\\nYou smart like who? You are</p>\\n<p t=\"50280\" d=\"7520\">If you cry tears of blood from both eyes\\nSo sorry like who? You are</p>\\n<p t=\"57800\" d=\"8480\">What should I do? I can’t stand myself being so weak\\nWhile I force myself to cover my eyes</p>\\n<p t=\"66280\" d=\"4820\">I need to bring an end to this love</p>\\n<p t=\"71100\" d=\"5360\">Let&#39;s kill this love!\\nYeah, yeah, yeah, yeah, yeah</p>\\n<p t=\"78280\" d=\"2500\">Rum, pum, pum, pum, pum, pum, pum</p>\\n<p t=\"82220\" d=\"6320\">Let&#39;s kill this love!\\nRum, pum, pum, pum, pum, pum, pum</p>\\n<p t=\"90360\" d=\"3980\">Feelin&#39; like a sinner\\nIt&#39;s so fire with him I go boo, ooh</p>\\n<p t=\"94340\" d=\"2000\">He said you look crazy\\nThank you baby</p>\\n<p t=\"96340\" d=\"3020\">I owe it all to you\\nGot me all messed up</p>\\n<p t=\"99360\" d=\"3460\">His love is my favorite\\nBut you plus me</p>\\n<p t=\"102820\" d=\"2800\">Sadly can be dangerous</p>\\n<p t=\"105620\" d=\"4460\">Lucky me, lucky you\\nAfter all, in the end we lie</p>\\n<p t=\"110080\" d=\"5880\">So what? So what?\\nIf I end up forgetting you</p>\\n<p t=\"116100\" d=\"2800\">So sorry\\nI&#39;m not sorry</p>\\n<p t=\"118900\" d=\"9320\">What should I do? I can’t stand myself being so weak\\nWhile I force myself to hide my tears</p>\\n<p t=\"128220\" d=\"4520\">I need to bring an end to this love</p>\\n<p t=\"132740\" d=\"5840\">Let&#39;s kill this love!\\nYeah, yeah, yeah, yeah, yeah</p>\\n<p t=\"140460\" d=\"2000\">Rum, pum, pum, pum, pum, pum, pum</p>\\n<p t=\"143400\" d=\"6660\">Let&#39;s kill this love!\\nRum, pum, pum, pum, pum, pum, pum</p>\\n<p t=\"157100\" d=\"6840\">We all commit to love\\nThat makes you cry, oh, oh</p>\\n<p t=\"163940\" d=\"5980\">We&#39;re all making love\\nThat kills you inside, yeah</p>\\n<p t=\"169920\" d=\"3900\">We must kill this love (Yeah, yeah)\\nYeah, it&#39;s sad but true</p>\\n<p t=\"173820\" d=\"3640\">Gotta kill this love (Yeah, yeah)\\nBefore it kills you too</p>\\n<p t=\"177460\" d=\"3820\">Kill this love (Yeah, yeah)\\nYeah, it&#39;s sad but true</p>\\n<p t=\"181280\" d=\"4920\">Gotta kill this love (Yeah, yeah)\\nGotta kill, let&#39;s kill this love!</p>\\n</body>\\n</timedtext>\\n'"
      ]
     },
     "execution_count": 18,
     "metadata": {},
     "output_type": "execute_result"
    }
   ],
   "source": [
    "caption.xml_captions"
   ]
  },
  {
   "cell_type": "code",
   "execution_count": null,
   "id": "5f4cf495-cc2a-4137-a440-9f0ec098b2bd",
   "metadata": {},
   "outputs": [],
   "source": []
  }
 ],
 "metadata": {
  "kernelspec": {
   "display_name": "Python 3 (ipykernel)",
   "language": "python",
   "name": "python3"
  },
  "language_info": {
   "codemirror_mode": {
    "name": "ipython",
    "version": 3
   },
   "file_extension": ".py",
   "mimetype": "text/x-python",
   "name": "python",
   "nbconvert_exporter": "python",
   "pygments_lexer": "ipython3",
   "version": "3.9.2"
  }
 },
 "nbformat": 4,
 "nbformat_minor": 5
}
