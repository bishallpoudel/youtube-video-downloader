{
 "cells": [
  {
   "cell_type": "markdown",
   "id": "27a3970a-a6b0-4cc1-b8af-adb0023619f8",
   "metadata": {},
   "source": [
    "## Channel"
   ]
  },
  {
   "cell_type": "code",
   "execution_count": 1,
   "id": "5a1435d4-fcba-4ef1-9945-a00d7442cc81",
   "metadata": {},
   "outputs": [],
   "source": [
    "from pytube import Channel"
   ]
  },
  {
   "cell_type": "code",
   "execution_count": 5,
   "id": "34aa64a5-1c11-4745-8290-3047598fe850",
   "metadata": {},
   "outputs": [],
   "source": [
    "# Create channel object by chennel link\n",
    "\n",
    "c = Channel(\"https://www.youtube.com/channel/UC5TTLXzvhIDbHagriuBasVQ\")"
   ]
  },
  {
   "cell_type": "code",
   "execution_count": 7,
   "id": "bbf094e7-9545-494c-a5c0-b5bdf0b89de3",
   "metadata": {},
   "outputs": [
    {
     "name": "stdout",
     "output_type": "stream",
     "text": [
      "Downloading videos from: 8D SOUNDS\n"
     ]
    }
   ],
   "source": [
    "# downloading channel videos\n",
    "\n",
    "print(\"Downloading videos from: {}\".format(c.channel_name))\n",
    "# Here same loop goes to download videos"
   ]
  },
  {
   "cell_type": "code",
   "execution_count": 8,
   "id": "db3410a7-7a2d-411a-bb1b-083be80c7633",
   "metadata": {},
   "outputs": [
    {
     "name": "stdout",
     "output_type": "stream",
     "text": [
      "https://www.youtube.com/watch?v=837yqISP9DA\n",
      "https://www.youtube.com/watch?v=uBmdxtJ5c4o\n",
      "https://www.youtube.com/watch?v=_ydZWJnKXQM\n",
      "https://www.youtube.com/watch?v=RkpaWNMXu4Y\n",
      "https://www.youtube.com/watch?v=YjRHjGbt8UQ\n",
      "https://www.youtube.com/watch?v=zAJ53mcxv30\n",
      "https://www.youtube.com/watch?v=ShIIZVY3n9I\n",
      "https://www.youtube.com/watch?v=1UqBG7IjHYQ\n",
      "https://www.youtube.com/watch?v=iezaI7A_oTU\n",
      "https://www.youtube.com/watch?v=sIKU1gXAGXQ\n",
      "https://www.youtube.com/watch?v=Kfr3YC2ne_A\n",
      "https://www.youtube.com/watch?v=8Npa3Pkwtsg\n",
      "https://www.youtube.com/watch?v=HoeHJ3ftgUQ\n",
      "https://www.youtube.com/watch?v=EC-7MM2dcTQ\n",
      "https://www.youtube.com/watch?v=I45nC07IA1k\n",
      "https://www.youtube.com/watch?v=Ctd_zqb3CTU\n",
      "https://www.youtube.com/watch?v=OgrzxDgCdiE\n",
      "https://www.youtube.com/watch?v=uVBEYJHLJ8M\n",
      "https://www.youtube.com/watch?v=DGCgSeWWyDE\n",
      "https://www.youtube.com/watch?v=9KSthcRX6SE\n",
      "https://www.youtube.com/watch?v=enhUxen-pXg\n",
      "https://www.youtube.com/watch?v=AKjsXiiIA4E\n",
      "https://www.youtube.com/watch?v=iB-_trsOVtE\n",
      "https://www.youtube.com/watch?v=CEGscfSVJXc\n",
      "https://www.youtube.com/watch?v=mNqMxEXB9qk\n",
      "https://www.youtube.com/watch?v=mjbKs8junLo\n",
      "https://www.youtube.com/watch?v=trBie3Es-2M\n",
      "https://www.youtube.com/watch?v=6jkonH2qyJI\n",
      "https://www.youtube.com/watch?v=zEJSDINunxg\n",
      "https://www.youtube.com/watch?v=-XxwanUb3DM\n",
      "https://www.youtube.com/watch?v=W6zySINjpsc\n",
      "https://www.youtube.com/watch?v=vZKwedcjQgc\n",
      "https://www.youtube.com/watch?v=y_U5_6SdKcY\n",
      "https://www.youtube.com/watch?v=eLWpThH2tPM\n"
     ]
    }
   ],
   "source": [
    "# Display urls\n",
    "for url in c.video_urls:\n",
    "    print(url)"
   ]
  },
  {
   "cell_type": "code",
   "execution_count": null,
   "id": "60b5638a-f988-4d71-9bf7-1e1e57ee0d2f",
   "metadata": {},
   "outputs": [],
   "source": []
  }
 ],
 "metadata": {
  "kernelspec": {
   "display_name": "Python 3 (ipykernel)",
   "language": "python",
   "name": "python3"
  },
  "language_info": {
   "codemirror_mode": {
    "name": "ipython",
    "version": 3
   },
   "file_extension": ".py",
   "mimetype": "text/x-python",
   "name": "python",
   "nbconvert_exporter": "python",
   "pygments_lexer": "ipython3",
   "version": "3.9.2"
  }
 },
 "nbformat": 4,
 "nbformat_minor": 5
}
