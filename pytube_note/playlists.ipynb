{
 "cells": [
  {
   "cell_type": "markdown",
   "id": "03d5b594-6f0c-4151-864b-e78732e37ded",
   "metadata": {},
   "source": [
    "## Playlists"
   ]
  },
  {
   "cell_type": "code",
   "execution_count": 15,
   "id": "444eaaaf-9eb3-4a1e-b4ff-d311fe866d8a",
   "metadata": {},
   "outputs": [],
   "source": [
    "from pytube import Playlist"
   ]
  },
  {
   "cell_type": "code",
   "execution_count": 20,
   "id": "c16c8b50-f771-488a-a79d-4453c9413d99",
   "metadata": {},
   "outputs": [],
   "source": [
    "# Playlist object\n",
    "p = Playlist(\"https://www.youtube.com/watch?v=Il0S8BoucSA&list=PLjp0AEEJ0-fGKG_3skl0e1FQlJfnx-TJz\")\n"
   ]
  },
  {
   "cell_type": "code",
   "execution_count": 21,
   "id": "ccef11ea-c03a-40d6-bc00-4b85e649b19a",
   "metadata": {},
   "outputs": [
    {
     "name": "stdout",
     "output_type": "stream",
     "text": [
      "Downloading: Ed Sheeran Official Music Videos Playlist\n"
     ]
    }
   ],
   "source": [
    "print(\"Downloading: {}\".format(p.title))"
   ]
  },
  {
   "cell_type": "code",
   "execution_count": 25,
   "id": "d080b25a-2c61-4506-abc0-b01181c7415f",
   "metadata": {},
   "outputs": [],
   "source": [
    "# To download all videos\n",
    "# Here can choose any streams\n",
    "for video in p.videos[:2]:\n",
    "    video.streams.first().download()"
   ]
  },
  {
   "cell_type": "code",
   "execution_count": 23,
   "id": "7b2ea579-053b-4aed-afba-153d623d651e",
   "metadata": {},
   "outputs": [
    {
     "name": "stdout",
     "output_type": "stream",
     "text": [
      "https://www.youtube.com/watch?v=Il0S8BoucSA\n",
      "https://www.youtube.com/watch?v=k6ZoE4RrcDs\n",
      "https://www.youtube.com/watch?v=orJSJGHjBLI\n",
      "https://www.youtube.com/watch?v=JGwWNGJdvx8\n",
      "https://www.youtube.com/watch?v=t3CoEyYEf4A\n",
      "https://www.youtube.com/watch?v=y83x7MgzWOA\n",
      "https://www.youtube.com/watch?v=lp-EO5I60KA\n",
      "https://www.youtube.com/watch?v=_NGQfFCFUn4\n",
      "https://www.youtube.com/watch?v=2Vv-BfVoq4g\n",
      "https://www.youtube.com/watch?v=iWZmdoY1aTE\n",
      "https://www.youtube.com/watch?v=K0ibBPhiaG0\n",
      "https://www.youtube.com/watch?v=UPOT2tgY9QQ\n",
      "https://www.youtube.com/watch?v=UAWcs5H-qgQ\n",
      "https://www.youtube.com/watch?v=ryJgDL9jzKk\n",
      "https://www.youtube.com/watch?v=tlYcUqEPN58\n",
      "https://www.youtube.com/watch?v=mj0XInqZMHY\n",
      "https://www.youtube.com/watch?v=87gWaABqGYs\n",
      "https://www.youtube.com/watch?v=s93NCuXt7x4\n",
      "https://www.youtube.com/watch?v=CfkxLRuSteI\n",
      "https://www.youtube.com/watch?v=nSDgHBxUbVQ\n",
      "https://www.youtube.com/watch?v=S5n9emOr7SQ\n",
      "https://www.youtube.com/watch?v=c4BLVznuWnU\n",
      "https://www.youtube.com/watch?v=IOOcbIyoW_0\n",
      "https://www.youtube.com/watch?v=eiDiKwbGfIY\n",
      "https://www.youtube.com/watch?v=A_af256mnTE\n",
      "https://www.youtube.com/watch?v=Ix9NXVIbm2A\n",
      "https://www.youtube.com/watch?v=iD2rhdFRehU\n",
      "https://www.youtube.com/watch?v=nkqVm5aiC28\n",
      "https://www.youtube.com/watch?v=7t3Re2VIbHE\n",
      "https://www.youtube.com/watch?v=ZXvzzTICvJs\n",
      "https://www.youtube.com/watch?v=FOjdXSrtUxA\n",
      "https://www.youtube.com/watch?v=G2fOum_KWQU\n",
      "https://www.youtube.com/watch?v=Z3rv46h5JEw\n",
      "https://www.youtube.com/watch?v=Q_yuO8UNGmY\n"
     ]
    }
   ],
   "source": [
    "# Print Urls\n",
    "\n",
    "for url in p.video_urls:\n",
    "    print(url)"
   ]
  },
  {
   "cell_type": "code",
   "execution_count": null,
   "id": "5f0d720f-8cf2-45f4-9665-eb48c2111b2d",
   "metadata": {},
   "outputs": [],
   "source": []
  }
 ],
 "metadata": {
  "kernelspec": {
   "display_name": "Python 3 (ipykernel)",
   "language": "python",
   "name": "python3"
  },
  "language_info": {
   "codemirror_mode": {
    "name": "ipython",
    "version": 3
   },
   "file_extension": ".py",
   "mimetype": "text/x-python",
   "name": "python",
   "nbconvert_exporter": "python",
   "pygments_lexer": "ipython3",
   "version": "3.9.2"
  }
 },
 "nbformat": 4,
 "nbformat_minor": 5
}
